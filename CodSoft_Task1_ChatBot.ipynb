{
  "nbformat": 4,
  "nbformat_minor": 0,
  "metadata": {
    "colab": {
      "provenance": [],
      "authorship_tag": "ABX9TyML4vPRk7URMEUK4vpxDIQH",
      "include_colab_link": true
    },
    "kernelspec": {
      "name": "python3",
      "display_name": "Python 3"
    },
    "language_info": {
      "name": "python"
    }
  },
  "cells": [
    {
      "cell_type": "markdown",
      "metadata": {
        "id": "view-in-github",
        "colab_type": "text"
      },
      "source": [
        "<a href=\"https://colab.research.google.com/github/Sai-sharann/CODSOFT/blob/main/CodSoft_Task1_ChatBot.ipynb\" target=\"_parent\"><img src=\"https://colab.research.google.com/assets/colab-badge.svg\" alt=\"Open In Colab\"/></a>"
      ]
    },
    {
      "cell_type": "code",
      "source": [
        "import re\n",
        "\n",
        "programming_languages = {\n",
        "    \"python\": \"Python is a versatile and widely-used programming language known for its readability and simplicity. It's used in web development, data analysis, artificial intelligence, and more.\",\n",
        "    \"java\": \"Java is an object-oriented programming language often used for building applications that run on various platforms, including desktop, mobile, and web.\",\n",
        "    \"c++\": \"C++ is a powerful programming language commonly used for systems programming, game development, and high-performance applications.\",\n",
        "    \"javascript\": \"JavaScript is a scripting language used for web development to add interactivity and dynamic content to websites. It's essential for front-end web development.\",\n",
        "    \"ruby\": \"Ruby is a dynamic, object-oriented programming language known for its elegant syntax and focus on simplicity. It's commonly used for web development.\",\n",
        "    \"php\": \"PHP is a server-side scripting language designed for web development, primarily used to create dynamic web pages and applications.\",\n",
        "    \"swift\": \"Swift is a programming language developed by Apple for iOS, macOS, watchOS, and tvOS app development. It's known for its performance and safety features.\",\n",
        "    \"c#\": \"C# (C sharp) is a modern programming language developed by Microsoft. It's used for developing Windows applications, games, and more.\",\n",
        "    \"rust\": \"Rust is a systems programming language known for its focus on safety and performance. It's commonly used for building fast and reliable applications.\",\n",
        "}\n",
        "\n",
        "def get_programming_language_info(language):\n",
        "    return programming_languages.get(language.lower(), \"I'm not familiar with that programming language.\")\n",
        "\n",
        "def perform_calculation(expression):\n",
        "    try:\n",
        "        result = eval(expression)\n",
        "        return f\"The result is: {result}\"\n",
        "    except Exception as e:\n",
        "        return f\"An error occurred: {e}\"\n",
        "\n",
        "def list_programming_languages():\n",
        "    languages_list = \"Here are some programming languages I can tell you about:\\n\"\n",
        "    for language in programming_languages.keys():\n",
        "        languages_list += f\"- {language.capitalize()}\\n\"\n",
        "    return languages_list\n",
        "\n",
        "def chatbot_response(user_input):\n",
        "    user_input = user_input.lower()\n",
        "\n",
        "    if re.search(r'\\b(hi|hello|hey)\\b', user_input):\n",
        "        return \"Hello! How can I assist you today?\"\n",
        "\n",
        "    elif re.search(r'\\b(weather|forecast)\\b', user_input):\n",
        "        return \"I'm a programming chatbot, so I don't have weather information. Ask me about programming!\"\n",
        "\n",
        "    elif re.search(r'\\b(programming|language)\\b', user_input):\n",
        "        return \"Sure, I can help you with programming languages. Which language are you interested in? Or would you like to see a list of languages?\"\n",
        "\n",
        "    elif re.search(r'\\b(good|well done|great)\\b', user_input):\n",
        "        return \"Thank you! I'm here to help.\"\n",
        "\n",
        "    elif re.search(r'\\b(list|show|provide|display) programming languages\\b', user_input):\n",
        "        return list_programming_languages()\n",
        "\n",
        "    elif user_input == 'list languages':\n",
        "        return list_programming_languages()\n",
        "\n",
        "    elif any(language in user_input for language in programming_languages.keys()):\n",
        "        for language in programming_languages.keys():\n",
        "            if language in user_input:\n",
        "                return get_programming_language_info(language)\n",
        "\n",
        "    elif re.search(r'\\b(calculate|calculator)\\b', user_input):\n",
        "        calculation = re.search(r'(?<=calculate\\s).*', user_input).group(0)\n",
        "        return perform_calculation(calculation)\n",
        "\n",
        "    elif re.search(r'\\b(okay|ok|sure|fine)\\b', user_input):\n",
        "        return \"Great! Is there anything else you'd like to know?\"\n",
        "\n",
        "    elif re.search(r'\\b(thank you|thanks)\\b', user_input):\n",
        "        return \"You're welcome! Feel free to ask if you have more questions.\"\n",
        "\n",
        "    elif re.search(r'\\b(bye|goodbye)\\b', user_input):\n",
        "        return \"Goodbye! Feel free to return if you have more questions.\"\n",
        "\n",
        "    else:\n",
        "        return \"I'm sorry, I'm not sure how to respond to that. Could you please provide more context?\"\n",
        "\n",
        "def main():\n",
        "    print(\"Chatbot: Hello! I'm a programming chatbot. You can ask me about programming languages, perform calculations, or engage in general conversation.\")\n",
        "    print(\"Chatbot: Feel free to ask questions like:\")\n",
        "    print(\"Chatbot: - Tell me about Python programming.\")\n",
        "    print(\"Chatbot: - Can you calculate 5 * 3?\")\n",
        "    print(\"Chatbot: - What is Java used for?\")\n",
        "    print(\"Chatbot: - List programming languages.\")\n",
        "    print(\"Chatbot: You can also say 'bye' to exit the chat.\")\n",
        "\n",
        "    while True:\n",
        "        user_input = input(\"You: \")\n",
        "        if user_input.lower() == 'exit':\n",
        "            print(\"Chatbot: Goodbye!\")\n",
        "            break\n",
        "        response = chatbot_response(user_input)\n",
        "        print(\"Chatbot:\", response)\n",
        "\n",
        "if __name__ == \"__main__\":\n",
        "    main()\n"
      ],
      "metadata": {
        "id": "10su0KOG10BM",
        "colab": {
          "base_uri": "https://localhost:8080/"
        },
        "outputId": "5a7660c8-efc3-4b5f-aa8b-eb7ea5f03ac5"
      },
      "execution_count": null,
      "outputs": [
        {
          "output_type": "stream",
          "name": "stdout",
          "text": [
            "Chatbot: Hello! I'm a programming chatbot. You can ask me about programming languages, perform calculations, or engage in general conversation.\n",
            "Chatbot: Feel free to ask questions like:\n",
            "Chatbot: - Tell me about Python programming.\n",
            "Chatbot: - Can you calculate 5 * 3?\n",
            "Chatbot: - What is Java used for?\n",
            "Chatbot: - List programming languages.\n",
            "Chatbot: You can also say 'bye' to exit the chat.\n",
            "You: hi\n",
            "Chatbot: Hello! How can I assist you today?\n",
            "You: hor u doin\n",
            "Chatbot: I'm sorry, I'm not sure how to respond to that. Could you please provide more context?\n",
            "You: how u doing\n",
            "Chatbot: I'm sorry, I'm not sure how to respond to that. Could you please provide more context?\n",
            "You: how you doing\n",
            "Chatbot: I'm sorry, I'm not sure how to respond to that. Could you please provide more context?\n",
            "You: hi\n",
            "Chatbot: Hello! How can I assist you today?\n",
            "You: whats your functionality\n",
            "Chatbot: I'm sorry, I'm not sure how to respond to that. Could you please provide more context?\n",
            "You: can u list programming languages\n",
            "Chatbot: Sure, I can help you with programming languages. Which language are you interested in? Or would you like to see a list of languages?\n",
            "You: list\n",
            "Chatbot: I'm sorry, I'm not sure how to respond to that. Could you please provide more context?\n",
            "You: exit\n",
            "Chatbot: Goodbye!\n"
          ]
        }
      ]
    },
    {
      "cell_type": "code",
      "source": [],
      "metadata": {
        "id": "k1o-WV9fdn-Y"
      },
      "execution_count": null,
      "outputs": []
    }
  ]
}